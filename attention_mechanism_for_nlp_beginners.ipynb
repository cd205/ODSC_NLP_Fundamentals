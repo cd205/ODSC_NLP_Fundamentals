{
  "nbformat": 4,
  "nbformat_minor": 0,
  "metadata": {
    "hide_input": false,
    "kernelspec": {
      "display_name": "Python 3",
      "language": "python",
      "name": "python3"
    },
    "language_info": {
      "codemirror_mode": {
        "name": "ipython",
        "version": 3
      },
      "file_extension": ".py",
      "mimetype": "text/x-python",
      "name": "python",
      "nbconvert_exporter": "python",
      "pygments_lexer": "ipython3",
      "version": "3.8.5"
    },
    "colab": {
      "name": "attention-mechanism-for-nlp-beginners.ipynb",
      "provenance": []
    }
  },
  "cells": [
    {
      "cell_type": "markdown",
      "metadata": {
        "id": "6sgujdWmNzdt"
      },
      "source": [
        "# Introduction\n",
        "\n",
        "We will now discuss about Transformers'**Attention Mechanism**, used as a basic model for GPT and BERT. It's important to understand state-of-the-art language models. We will go though an excercise French-English translation of a pioece of text."
      ]
    },
    {
      "cell_type": "markdown",
      "metadata": {
        "id": "n9NtrT_ANzdx"
      },
      "source": [
        "<a class=\"anchor\" id=\"0.1\"></a>\n",
        "#  💥 Table of Contents\n",
        "i.  [How do I translate the sentence by machine? : Appearance of Attention Mechanism](#1)\n",
        "\n",
        "ii.  [What is Attention's idea?](#2)\n",
        "\n",
        "iii.  [Attention's process](#3)\n",
        "\n",
        "   - [Find the attention score](#3.1)\n",
        "   - [Attention distribution is obtained through the softmax function](#3.2)\n",
        "   - [Attention Value is obtained by weighting the attention weights and the hidden state of each encoder](#3.3)\n",
        "   - [Concatenate : connects the attention value with the hidden state at time t of the decoder](#3.4)\n",
        "   - [Calculating  **𝑠̃** the input to output layer operation](#3.5)\n",
        "   - [Use **𝑠̃** as the input for the output layer](#3.6)\n",
        "\n",
        "\n",
        "iv. [seq2seq with attention vs traditional seq2seq](#4)\n",
        "\n",
        "\n",
        "v. [Different types of attention](#5)\n",
        "\n",
        "\n",
        "vi. [Additional Concepts : Teacher Forcing](#6)\n",
        "\n",
        "\n",
        "vii. [French-English Machine Translation Tutorial: Using Pytorch](#7)\n",
        "\n",
        "\n",
        "viii. [conclusion](#17)\n",
        "\n",
        "\n",
        "ix. [References](#18) \n"
      ]
    },
    {
      "cell_type": "markdown",
      "metadata": {
        "id": "LtMSvxG2Nzdy"
      },
      "source": [
        "# 1. How do I translate the sentence by machine? : Appearance of Attention Mechanism <a class=\"anchor\" id=\"1\"></a>\n",
        "\n",
        "The seq2seq model compresses the input sequence into one fixed-size vector representation, called the context vector, through which the decoder produces the output sequence. Through this, each word can be translated.\n",
        "\n",
        "$\\;\\;\\;\\;\\;\\;\\;\\;$ \n",
        "<center><img src=\"https://img1.daumcdn.net/thumb/R1280x0/?scode=mtistory2&fname=https%3A%2F%2Fblog.kakaocdn.net%2Fdn%2FprTT1%2FbtqChF6Z2BM%2FyKmITHEga1J0ZYFWEMr8Y0%2Fimg.png\"/ width=\"500\" height=\"500\" ></center>\n",
        "\n",
        "$\\;\\;\\;\\;\\;\\;\\;\\;$\n",
        "\n",
        "Let's take a look at the seq2seq model using RNN. \"I\" comes first, \"love\" comes next, and \"you\" comes next. Consequently, the final RNN cell states \"I love you\". This vector is called the **context vector**.\n",
        "\n",
        "**Encoder** eventually creates a context vector by receiving each word sequentially. **Decoder** starts machine translation from this context vector. From start to end, the words in it are translated immediately.\n",
        "\n",
        "However, there are two main problems with seq2seq models based on these RNNs.\n",
        "\n",
        "   1. **trying to compress all the information into one fixed-size vector results in information loss.** \n",
        "   2. **there exists the Vanishing Gradient problem, which is a chronic problem of RNN.**\n",
        "\n",
        "In other words, in the field of machine translation, if the input sentence is long, the translation quality is poor. Attention helps in this case."
      ]
    },
    {
      "cell_type": "markdown",
      "metadata": {
        "id": "jCCoBLvkNzdz"
      },
      "source": [
        "# 2. What is Attention's idea? <a class=\"anchor\" id=\"2\"></a>\n",
        "\n",
        "The basic idea of Attention is that at every time step that the decoder predicts output words, it references the entire input sentence from the encoder. However, instead of referring to all the input sentences at the same rate, you will focus more on the parts of the input words that are related to the words you need to predict at that point.\n",
        "\n",
        "$\\;\\;\\;\\;\\;\\;\\;\\;$ \n",
        "<center><img src=\"https://img1.daumcdn.net/thumb/R1280x0/?scode=mtistory2&fname=https%3A%2F%2Fblog.kakaocdn.net%2Fdn%2FYzQNQ%2FbtqCe5rLdtM%2FKuUvWxOTdTLlOte7lVm4i1%2Fimg.png\"/ width=\"500\" height=\"500\" ></center>\n",
        "\n",
        "$\\;\\;\\;\\;\\;\\;\\;\\;$\n",
        "\n",
        "In other words, each state from the encoder, each RNN cell, is utilized. We can summarize the advantages of Attention in two ways here.\n",
        "\n",
        "   1. **It is not a fixed size context vector. The problem that comes from one fixed-size context vector is to refresh the context vector for each state.** \n",
        "   2. **Of all the states in Encoder, we can design a mechanism that can only focus on the words we need to focus on.**\n"
      ]
    },
    {
      "cell_type": "markdown",
      "metadata": {
        "id": "R5im0QgCNzd1"
      },
      "source": [
        "# 3. Attention's process <a class=\"anchor\" id=\"3\"></a>\n",
        "\n",
        "OK! If you have a rough idea of Attention, let's look at the Attention process. There are many different types of Attention, and let's understand it through Dot-Product Attention, which is the most informally easy to understand formula. Among the attractions used in seq2seq, the difference between dot-product attention and other attention is largely the difference in intermediate formulas, and the mechanism itself is almost similar. I'll explain it again after various Attentions.\n",
        "\n",
        "$\\;\\;\\;\\;\\;\\;\\;\\;$ \n",
        "<center><img src=\"https://wikidocs.net/images/page/22893/dotproductattention1_final.PNG\"/ width=\"500\" height=\"500\" ></center>\n",
        "\n",
        "$\\;\\;\\;\\;\\;\\;\\;\\;$\n",
        "\n",
        "The third LSTM cell in the decoder shows the use of an attention mechanism when predicting output words. Suppose that the first and second LSTM cells in the decoder have already gone through the attention mechanism to predict je and suis. Before explaining the attention mechanism in detail, let's first get a sense of the overall picture above. The third LSTM cell in the decoder wants to refer to the information of all the input words in the encoder once again to predict the output words. The description of the intermediate process is currently omitted, and what is noteworthy here is the softmax function of the encoder.\n",
        "\n",
        "The resulting value of the softmax function is a numerical value of how helpful each of the words I, am, a, and student is when predicting the output word. The figure above shows the magnitude of the resultant value of the softmax function in the size of a red rectangle. The larger the rectangle, the larger the helpful it is. When each input word is quantified and measured to help you predict the decoder, it is sent to the decoder with one piece of information. In the figure above, the green triangle corresponds to this. As a result, the decoder is more likely to predict output words more accurately. Now that we have a holistic sense of the attention mechanism.\n",
        "\n",
        "Let's look at the following as an easier example.\n",
        "\n",
        "$\\;\\;\\;\\;\\;\\;\\;\\;$ \n",
        "<center><img src=\"https://img1.daumcdn.net/thumb/R1280x0/?scode=mtistory2&fname=https%3A%2F%2Fblog.kakaocdn.net%2Fdn%2FG1u0d%2FbtqCl9U65jT%2F3w2vCPrTIRU0a14bWNooo1%2Fimg.png\"/ width=\"400\" height=\"400\" ></center>\n",
        "\n",
        "$\\;\\;\\;\\;\\;\\;\\;\\;$\n",
        "\n",
        "First of all, there is a **Fully connected network (FC)**. We utilize $h_1$, $h_2$, ... $h_N$ (the states of all RNN cells from the encoder). And I put in the final H3. Because there is no value from the decoder under the current circumstances, we simply put in the state value that existed before. Output values from the fully connected network are $s_1$, $s_2$, and $s_3$, the scores on the RNN cell in each encoder.\n",
        "\n",
        "Now that we have a holistic sense of the attention mechanism, let's take a closer look at the attention mechanism.\n",
        "\n",
        "\n",
        "### 1. Find the attention score <a class=\"anchor\" id=\"3.1\"></a>\n",
        "\n",
        "$\\;\\;\\;\\;\\;\\;\\;\\;$ \n",
        "<center><img src=\"https://wikidocs.net/images/page/22893/dotproductattention2_final.PNG\"/ width=\"500\" height=\"500\" ></center>\n",
        "\n",
        "$\\;\\;\\;\\;\\;\\;\\;\\;$\n",
        "\n",
        "If the time step of the encoder is 1, 2, and N respectively, then the hidden state of time step of the encoder is  $h_1$, $h_2$, ... $h_N$ respectively. Let the decoder's hidden state at the time step t of the decoder be S. We also assume here that the hidden state of the encoder and the hidden state of the decoder are the same dimensions. For the above figure, the encoder's hidden state and the decoder's hidden state are the same dimension 4.\n",
        "\n",
        "The attention mechanism requires a new value called Attention Value for output word prediction. Let's define the attention value to predict the t-th word as $a_t$.\n",
        "\n",
        "An attention score is a score value that determines how similar each of the hidden states of the encoder is to the hidden state $s_t$ of the decoder at this point in time to predict the word at point t of the current decoder.\n",
        "\n",
        "Dot-Product Attention will transpose $s_t$, perform each hidden state and dot product to obtain the value of this score. That is, all attention score values are scalar. For example, the method of calculating the attention score of $s_t$ and the ith hidden state of the encoder is shown below.\n",
        "\n",
        "$\\;\\;\\;\\;\\;\\;\\;\\;$ \n",
        "<center><img src=\"https://wikidocs.net/images/page/22893/i%EB%B2%88%EC%A7%B8%EC%96%B4%ED%85%90%EC%85%98%EC%8A%A4%EC%BD%94%EC%96%B4_final.PNG\"/ width=\"300\" height=\"300\" ></center>\n",
        "\n",
        "$\\;\\;\\;\\;\\;\\;\\;\\;$\n",
        "\n",
        "Define the attention score function as follows :\n",
        "\n",
        "$$\n",
        "\\operatorname{score}(s_i, h_i) = s_{t}^Th_{i}\n",
        "$$\n",
        "\n",
        "Let's define the collection value of all hidden attention scores of $s_t$, and encoder as $e^t$. The formula for $e^t$ is as follows.\n",
        "\n",
        "$$\n",
        "\\operatorname{e^t} = [s_{t}^Th_{1}, \\operatorname{...}, s_{t}^Th_{N}]\n",
        "$$\n",
        "\n",
        "\n",
        "\n",
        "### 2. Attention distribution is obtained through the softmax function <a class=\"anchor\" id=\"3.2\"></a>\n",
        "\n",
        "$\\;\\;\\;\\;\\;\\;\\;\\;$ \n",
        "<center><img src=\"https://wikidocs.net/images/page/22893/dotproductattention3_final.PNG\"/ width=\"500\" height=\"500\" ></center>\n",
        "\n",
        "$\\;\\;\\;\\;\\;\\;\\;\\;$\n",
        "\n",
        "By applying the softmax function to $e^t$, you obtain a probability distribution that adds all values to 1. This is known as the Attention Distribution, and each value is known as the Attention Weight. In addition, the size of the attention weights in the hidden state of each encoder was visualized through the size of the rectangle. That is, the greater the attention weight, the larger the rectangle.\n",
        "\n",
        "Let me look at an easier example.\n",
        "\n",
        "$\\;\\;\\;\\;\\;\\;\\;\\;$ \n",
        "<center><img src=\"https://img1.daumcdn.net/thumb/R1280x0/?scode=mtistory2&fname=https%3A%2F%2Fblog.kakaocdn.net%2Fdn%2FdnaBKf%2FbtqCsIuHK8B%2FGKHuV1AgOI9e8bKt90kFp0%2Fimg.png\"/ width=\"400\" height=\"400\" ></center>\n",
        "\n",
        "$\\;\\;\\;\\;\\;\\;\\;\\;$\n",
        "\n",
        "The above figure shows the probability value of taking the softmax value of \"I love you\". 90% for \"I\", 0% for \"love\", and 10% for \"you\". This is called Attention weight and these values indicate how much we will focus.\n",
        "\n",
        "When the attention distribution, which is a collection of attention weights at point t of the decoder, is called $a^t$, defining $a^t$ as an expression :\n",
        "\n",
        "$$\n",
        "a_t = \\text{softmax}(e^t)\n",
        "$$\n",
        "\n",
        "\n",
        "\n",
        "\n",
        "### 3. Attention Value is obtained by weighting the attention weights and the hidden state of each encoder <a class=\"anchor\" id=\"3.3\"></a>\n",
        "\n",
        "$\\;\\;\\;\\;\\;\\;\\;\\;$ \n",
        "<center><img src=\"https://wikidocs.net/images/page/22893/dotproductattention4_final.PNG\"/ width=\"500\" height=\"500\" ></center>\n",
        "\n",
        "$\\;\\;\\;\\;\\;\\;\\;\\;$\n",
        "\n",
        "Now it's time to combine the information we've prepared so far into one. To obtain the final result of the attention, we multiply the hidden state of each encoder and the attention weights, and finally add them all. In summary, you might say weighed Sum. Below is the final result of the attention, i.e., an expression for the attention value $a_t$, the output of the attention function.\n",
        "\n",
        "$$\n",
        "a_t = \\sum_{i=1}^{N} a_{i}^{t}h_i\n",
        "$$\n",
        "\n",
        "The attention value $a_t$ is also called the **context vector** because it often contains the context of the encoder.\n",
        "\n",
        "Let me give you an easy example.\n",
        "\n",
        "$\\;\\;\\;\\;\\;\\;\\;\\;$ \n",
        "<center><img src=\"https://img1.daumcdn.net/thumb/R1280x0/?scode=mtistory2&fname=https%3A%2F%2Fblog.kakaocdn.net%2Fdn%2FbCGz9v%2FbtqCqNjebAu%2F77pnvKbjaNeIrPj3yM0MQ0%2Fimg.png\"/ width=\"400\" height=\"400\" ></center>\n",
        "\n",
        "$\\;\\;\\;\\;\\;\\;\\;\\;$\n",
        "\n",
        "cv1 stands for context vector1. **cv1 = $h_1$ * 0.9 + $h_2$ * 0 + $h_3$ * 0.1.** In other words, the first context vector is I for 90% and you for 10%.\n",
        "\n",
        "\n",
        "\n",
        "### 4. Concatenate : connects the attention value with the hidden state at time t of the decoder <a class=\"anchor\" id=\"3.4\"></a>\n",
        "\n",
        "$\\;\\;\\;\\;\\;\\;\\;\\;$ \n",
        "<center><img src=\"https://wikidocs.net/images/page/22893/dotproductattention5_final_final.PNG\"/ width=\"500\" height=\"500\" ></center>\n",
        "\n",
        "$\\;\\;\\;\\;\\;\\;\\;\\;$\n",
        "\n",
        "You have now obtained the final value of the attention function, the attention value $a_t$. Earlier, we introduced the following expression as an expression to determine the hidden state at point t with the attention mechanism: In fact, when the attention value is obtained, the attention mechanism concatenates $a_t$ with $s_t$ to form a vector. Let's define this as $v_t$. By using this $v_t$ as the input for the $\\hat{y}$ prediction operation, we can leverage the information from the encoder to better predict $\\hat{y}$. **This is at the heart of the attention mechanism.**\n",
        "\n",
        "Let's take another easy example.\n",
        "\n",
        "$\\;\\;\\;\\;\\;\\;\\;\\;$ \n",
        "<center><img src=\"https://img1.daumcdn.net/thumb/R1280x0/?scode=mtistory2&fname=https%3A%2F%2Fblog.kakaocdn.net%2Fdn%2FCpNnB%2FbtqCrPOozvr%2FEXUeB68QIoA2ucSkvW5K0K%2Fimg.png\"/ width=\"400\" height=\"400\" ></center>\n",
        "\n",
        "$\\;\\;\\;\\;\\;\\;\\;\\;$\n",
        "\n",
        "In the picture above, the output 'Nan' is shown. What will the second word come from? The second word is that the current state value in the decoder goes into FC. **What we need to note is that $h_1$, $h_2$, and $h_3$ are always used.**\n",
        "\n",
        "\n",
        "\n",
        "### 5. Calculating 𝑠̃ the input to output layer operation <a class=\"anchor\" id=\"3.5\"></a>\n",
        "\n",
        "$\\;\\;\\;\\;\\;\\;\\;\\;$ \n",
        "<center><img src=\"https://wikidocs.net/images/page/22893/st.PNG\"/ width=\"500\" height=\"500\" ></center>\n",
        "\n",
        "$\\;\\;\\;\\;\\;\\;\\;\\;$\n",
        "\n",
        "In the paper, we added another neural network operation before sending $v_t$ directly to the output layer. Multiply with the weight matrix and pass through the hyperbolic tangent function to obtain $\\hat{s}_t$, a new vector for output layer operations. In seq2seq, which does not use the attention mechanism, the input of the output layer is $s_t$ hidden at point t, while in the attention mechanism, the input of the output layer is $\\hat{s}_t$.\n",
        "\n",
        "Expressing this as an expression: In expressions, $W_c$ is the learnable weight matrix, and $b_c$ is the bias. Deflection is omitted in the figure.\n",
        "\n",
        "$$\n",
        "\\tilde{s}_{t} = \\tanh(\\mathbf{W_{c}}[{a}_t;{s}_t] + b_{c})\n",
        "$$\n",
        "\n",
        "\n",
        "\n",
        "### 6. Use 𝑠̃ as the input for the output layer <a class=\"anchor\" id=\"3.6\"></a>\n",
        "\n",
        "Use $\\hat{s}_t$ as the input to the output layer to obtain the prediction vector.\n",
        "\n",
        "$$\n",
        "\\widehat{y}_t = \\text{Softmax}\\left( W_y\\tilde{s}_t + b_y \\right)\n",
        "$$"
      ]
    },
    {
      "cell_type": "markdown",
      "metadata": {
        "id": "8xCHzqaVNzd4"
      },
      "source": [
        "# 4. seq2seq with attention vs. traditional seq2seq <a class=\"anchor\" id=\"4\"></a>\n",
        "\n",
        "\n",
        "$\\;\\;\\;\\;\\;\\;\\;\\;$ \n",
        "<center><img src=\"https://encrypted-tbn0.gstatic.com/images?q=tbn:ANd9GcSBp7-TJBXCkCm91-SRfwloIMXgm_O9s9ZyYw&usqp=CAU\"/ width=\"500\" height=\"500\" ></center>\n",
        "\n",
        "$\\;\\;\\;\\;\\;\\;\\;\\;$\n",
        "\n",
        "We show remarkable performance on the final result graph. In the graph, 'RNNenc' stands for conventional RNN Encoder-Decoder without Attention applied, and 'RNNsearch' stands for RNN Encoder-Decoder with Attention applied. The numbers \"30\" and \"50\" mean that the network has been trained in one sentence, each consisting of words below that number. Finally, the horizontal axis of the graph represents the length of the test sentence and the vertical axis represents the BLEUS score, an indicator used to represent translation performance.\n",
        "\n",
        "First of all, comparing the existing RNNenc-30 and RNNsearch-30, we can see that significant improvements in translation performance have been made even if it is not a long sentence. This records higher performance than RNNenc-50 does. Secondly, comparing RNNenc-50 and RNNsearch-50 shows that, again, translation performance has been improved, and remarkably, RNNsearch-50 does not have a degradation problem with translation performance even with longer sentence lengths.\n",
        "\n",
        "[Back to Table of Contents](#0.1)"
      ]
    },
    {
      "cell_type": "markdown",
      "metadata": {
        "id": "zBW-NXuJNzd6"
      },
      "source": [
        "# French-English Machine Translation Tutorial - Using Pytorch <a class=\"anchor\" id=\"7\"></a>\n",
        "\n",
        "We implement a simple machine translation project to help NLP beginners understand the attention mechanism. Many examples using Tensorflow exist, but we recently wrote them with a popular framework, Pytorch."
      ]
    },
    {
      "cell_type": "markdown",
      "metadata": {
        "id": "vUPadsYSNzd7"
      },
      "source": [
        "#### 1. Loading Libraries <a class=\"fra-eng\" id=\"8\"></a>"
      ]
    },
    {
      "cell_type": "code",
      "metadata": {
        "execution": {
          "iopub.execute_input": "2021-06-03T12:59:39.256362Z",
          "iopub.status.busy": "2021-06-03T12:59:39.256037Z",
          "iopub.status.idle": "2021-06-03T12:59:39.264077Z",
          "shell.execute_reply": "2021-06-03T12:59:39.263138Z",
          "shell.execute_reply.started": "2021-06-03T12:59:39.256329Z"
        },
        "id": "S86yKkUANzd8"
      },
      "source": [
        "from __future__ import unicode_literals, print_function, division\n",
        "from io import open\n",
        "import unicodedata\n",
        "import string\n",
        "import re\n",
        "import random\n",
        "import os\n",
        "import shutil\n",
        "import urllib3\n",
        "import zipfile\n",
        "import pandas as pd\n",
        "\n",
        "import torch\n",
        "import torch.nn as nn\n",
        "from torch import optim\n",
        "import torch.nn.functional as F\n",
        "\n",
        "device = torch.device(\"cuda\" if torch.cuda.is_available() else \"cpu\")"
      ],
      "execution_count": null,
      "outputs": []
    },
    {
      "cell_type": "markdown",
      "metadata": {
        "id": "9QnP_m2DNzd9"
      },
      "source": [
        "#### 2. Download and load data files <a class=\"fra-eng\" id=\"9\"></a>\n",
        "\n",
        "Before writing the code, download the data provided by https://www.manythings.org/anki/\n"
      ]
    },
    {
      "cell_type": "code",
      "metadata": {
        "execution": {
          "iopub.execute_input": "2021-06-03T12:59:39.732491Z",
          "iopub.status.busy": "2021-06-03T12:59:39.732174Z",
          "iopub.status.idle": "2021-06-03T12:59:40.459303Z",
          "shell.execute_reply": "2021-06-03T12:59:40.458247Z",
          "shell.execute_reply.started": "2021-06-03T12:59:39.732461Z"
        },
        "colab": {
          "base_uri": "https://localhost:8080/",
          "height": 357
        },
        "id": "E17TPpbvNzd9",
        "outputId": "099dacda-a83a-459e-fe12-d262ab3e1d12"
      },
      "source": [
        "import os\n",
        "from google.colab import drive\n",
        "\n",
        "url = 'http://www.manythings.org/anki/fra-eng.zip'\n",
        "file_name = 'fra-eng.zip'\n",
        "root_path = '/content/drive/MyDrive/Colab Notebooks/DL/input/fra-eng/'\n",
        "file_path = os.path.join(root_path, file_name)\n",
        "\n",
        "drive.mount('/content/drive')\n",
        "\n",
        "\n",
        "# with http.request('GET', url, preload_content = False) as r, open(zipfilename, 'wb') as out_file:\n",
        "#   shutil.copyfileobj(r, out_file)\n",
        "\n",
        "\n",
        "with zipfile.ZipFile(file_path, 'r') as zip_ref:\n",
        "  zip_ref.extractall(file_path)\n"
      ],
      "execution_count": null,
      "outputs": [
        {
          "output_type": "stream",
          "name": "stdout",
          "text": [
            "Drive already mounted at /content/drive; to attempt to forcibly remount, call drive.mount(\"/content/drive\", force_remount=True).\n"
          ]
        },
        {
          "output_type": "error",
          "ename": "FileNotFoundError",
          "evalue": "ignored",
          "traceback": [
            "\u001b[0;31m---------------------------------------------------------------------------\u001b[0m",
            "\u001b[0;31mFileNotFoundError\u001b[0m                         Traceback (most recent call last)",
            "\u001b[0;32m<ipython-input-7-65c37722dd69>\u001b[0m in \u001b[0;36m<module>\u001b[0;34m()\u001b[0m\n\u001b[1;32m     14\u001b[0m \u001b[0;34m\u001b[0m\u001b[0m\n\u001b[1;32m     15\u001b[0m \u001b[0;34m\u001b[0m\u001b[0m\n\u001b[0;32m---> 16\u001b[0;31m \u001b[0;32mwith\u001b[0m \u001b[0mzipfile\u001b[0m\u001b[0;34m.\u001b[0m\u001b[0mZipFile\u001b[0m\u001b[0;34m(\u001b[0m\u001b[0mfile_path\u001b[0m\u001b[0;34m,\u001b[0m \u001b[0;34m'r'\u001b[0m\u001b[0;34m)\u001b[0m \u001b[0;32mas\u001b[0m \u001b[0mzip_ref\u001b[0m\u001b[0;34m:\u001b[0m\u001b[0;34m\u001b[0m\u001b[0;34m\u001b[0m\u001b[0m\n\u001b[0m\u001b[1;32m     17\u001b[0m   \u001b[0mzip_ref\u001b[0m\u001b[0;34m.\u001b[0m\u001b[0mextractall\u001b[0m\u001b[0;34m(\u001b[0m\u001b[0mfile_path\u001b[0m\u001b[0;34m)\u001b[0m\u001b[0;34m\u001b[0m\u001b[0;34m\u001b[0m\u001b[0m\n",
            "\u001b[0;32m/usr/lib/python3.7/zipfile.py\u001b[0m in \u001b[0;36m__init__\u001b[0;34m(self, file, mode, compression, allowZip64, compresslevel)\u001b[0m\n\u001b[1;32m   1238\u001b[0m             \u001b[0;32mwhile\u001b[0m \u001b[0;32mTrue\u001b[0m\u001b[0;34m:\u001b[0m\u001b[0;34m\u001b[0m\u001b[0;34m\u001b[0m\u001b[0m\n\u001b[1;32m   1239\u001b[0m                 \u001b[0;32mtry\u001b[0m\u001b[0;34m:\u001b[0m\u001b[0;34m\u001b[0m\u001b[0;34m\u001b[0m\u001b[0m\n\u001b[0;32m-> 1240\u001b[0;31m                     \u001b[0mself\u001b[0m\u001b[0;34m.\u001b[0m\u001b[0mfp\u001b[0m \u001b[0;34m=\u001b[0m \u001b[0mio\u001b[0m\u001b[0;34m.\u001b[0m\u001b[0mopen\u001b[0m\u001b[0;34m(\u001b[0m\u001b[0mfile\u001b[0m\u001b[0;34m,\u001b[0m \u001b[0mfilemode\u001b[0m\u001b[0;34m)\u001b[0m\u001b[0;34m\u001b[0m\u001b[0;34m\u001b[0m\u001b[0m\n\u001b[0m\u001b[1;32m   1241\u001b[0m                 \u001b[0;32mexcept\u001b[0m \u001b[0mOSError\u001b[0m\u001b[0;34m:\u001b[0m\u001b[0;34m\u001b[0m\u001b[0;34m\u001b[0m\u001b[0m\n\u001b[1;32m   1242\u001b[0m                     \u001b[0;32mif\u001b[0m \u001b[0mfilemode\u001b[0m \u001b[0;32min\u001b[0m \u001b[0mmodeDict\u001b[0m\u001b[0;34m:\u001b[0m\u001b[0;34m\u001b[0m\u001b[0;34m\u001b[0m\u001b[0m\n",
            "\u001b[0;31mFileNotFoundError\u001b[0m: [Errno 2] No such file or directory: '/content/drive/MyDrive/Colab Notebooks/DL/input/fra-eng/fra-eng.zip'"
          ]
        }
      ]
    },
    {
      "cell_type": "code",
      "metadata": {
        "execution": {
          "iopub.execute_input": "2021-06-03T12:59:40.463132Z",
          "iopub.status.busy": "2021-06-03T12:59:40.461820Z",
          "iopub.status.idle": "2021-06-03T12:59:41.140090Z",
          "shell.execute_reply": "2021-06-03T12:59:41.139062Z",
          "shell.execute_reply.started": "2021-06-03T12:59:40.463091Z"
        },
        "id": "yX7dTnJaNzd9",
        "outputId": "88252063-e873-41b8-cd18-dfc422022dba"
      },
      "source": [
        "!ls"
      ],
      "execution_count": null,
      "outputs": [
        {
          "name": "stdout",
          "output_type": "stream",
          "text": [
            "__notebook_source__.ipynb  _about.txt  fra-eng.zip  fra.txt\n"
          ]
        }
      ]
    },
    {
      "cell_type": "markdown",
      "metadata": {
        "id": "Q1y1cSD-Nzd-"
      },
      "source": [
        "You can see that the file has been downloaded normally. If it's not downloaded properly, check your internet connection !"
      ]
    },
    {
      "cell_type": "markdown",
      "metadata": {
        "id": "gNpNtRvPNzd-"
      },
      "source": [
        "#### 3. Preparation for data preprocessing <a class=\"fra-eng\" id=\"10\"></a>\n",
        "\n",
        "Unlike dozens of characters in a single language, the encoding vector is very large because there are so many words in the translation. Therefore, we will refine the data to use only thousands of words per language using the method."
      ]
    },
    {
      "cell_type": "code",
      "metadata": {
        "execution": {
          "iopub.execute_input": "2021-06-03T12:59:41.142303Z",
          "iopub.status.busy": "2021-06-03T12:59:41.141953Z",
          "iopub.status.idle": "2021-06-03T12:59:41.150133Z",
          "shell.execute_reply": "2021-06-03T12:59:41.149117Z",
          "shell.execute_reply.started": "2021-06-03T12:59:41.142266Z"
        },
        "id": "LqLjToD4Nzd_"
      },
      "source": [
        "SOS_token = 0\n",
        "EOS_token = 1\n",
        "\n",
        "class Lang:\n",
        "    def __init__(self, name):\n",
        "        self.name = name\n",
        "        self.word2index = {}\n",
        "        self.word2count = {}\n",
        "        self.index2word = {0: 'SOS', 1: 'EOS'}\n",
        "        self.n_words = 2\n",
        "    \n",
        "    def addSentence(self, sentence):\n",
        "        for word in sentence.split(' '):\n",
        "            self.addWord(word)\n",
        "    \n",
        "    def addWord(self, word):\n",
        "        if word not in self.word2index:\n",
        "            self.word2index[word] = self.n_words\n",
        "            self.word2count[word] = 1\n",
        "            self.index2word[self.n_words] = word\n",
        "            self.n_words += 1\n",
        "        else:\n",
        "            self.word2count[word] += 1"
      ],
      "execution_count": null,
      "outputs": []
    },
    {
      "cell_type": "markdown",
      "metadata": {
        "id": "lptweAaONzd_"
      },
      "source": [
        "Create a class to store downloaded data as word->index, index->words and replace rare words."
      ]
    },
    {
      "cell_type": "code",
      "metadata": {
        "execution": {
          "iopub.execute_input": "2021-06-03T12:59:41.306654Z",
          "iopub.status.busy": "2021-06-03T12:59:41.306300Z",
          "iopub.status.idle": "2021-06-03T12:59:41.312014Z",
          "shell.execute_reply": "2021-06-03T12:59:41.311136Z",
          "shell.execute_reply.started": "2021-06-03T12:59:41.306618Z"
        },
        "id": "htUO-ayWNzd_"
      },
      "source": [
        "# Convert Unicode strings to plain ASCII\n",
        "def unicodeToAscii(s):\n",
        "    return ''.join(\n",
        "        c for c in unicodedata.normalize('NFD', s)\n",
        "        if unicodedata.category(c) != 'Mn'\n",
        "    )\n",
        "\n",
        "# Remove lowercase letters, trimming, and non-character characters\n",
        "def normalizeString(s):\n",
        "    s = unicodeToAscii(s.lower().strip())\n",
        "    s = re.sub(r\"([.!?])\", r\" \\1\", s)\n",
        "    s = re.sub(r\"[^a-zA-Z.!?]+\", r\" \", s)\n",
        "    return s"
      ],
      "execution_count": null,
      "outputs": []
    },
    {
      "cell_type": "markdown",
      "metadata": {
        "id": "1rcnVezINzd_"
      },
      "source": [
        "The file is all Unicode, which converts Unicode characters to ASCII for simplicity, makes all characters lowercase, and erases most punctuation."
      ]
    },
    {
      "cell_type": "code",
      "metadata": {
        "execution": {
          "iopub.execute_input": "2021-06-03T12:59:41.825675Z",
          "iopub.status.busy": "2021-06-03T12:59:41.824963Z",
          "iopub.status.idle": "2021-06-03T12:59:41.835415Z",
          "shell.execute_reply": "2021-06-03T12:59:41.834434Z",
          "shell.execute_reply.started": "2021-06-03T12:59:41.825606Z"
        },
        "id": "tvuSXkSsNzeA"
      },
      "source": [
        "def readLangs(lang1, lang2, reverse=False):\n",
        "    print(\"Reading lines...\")\n",
        "\n",
        "    # Read the file and separate it into lines\n",
        "    lines = open('./%s.txt' % (lang2), encoding='utf-8').\\\n",
        "        read().strip().split('\\n')\n",
        "    \n",
        "    # Separate all lines in pairs and normalize\n",
        "    pairs = [[normalizeString(s) for s in l.split('\\t')][:2] for l in lines]\n",
        "    \n",
        "    # Flip pairs, create Lang instances\n",
        "    if reverse:\n",
        "        pairs = [list(reversed(p)) for p in pairs]\n",
        "        input_lang = Lang(lang2)\n",
        "        output_lang = Lang(lang1)\n",
        "    else:\n",
        "        input_lang = Lang(lang1)\n",
        "        output_lang = Lang(lang2)\n",
        "\n",
        "    return input_lang, output_lang, pairs\n"
      ],
      "execution_count": null,
      "outputs": []
    },
    {
      "cell_type": "markdown",
      "metadata": {
        "id": "rVrQO4SzNzeA"
      },
      "source": [
        "To read the data file we will split the file into lines, and then split lines into pairs. The files are all English → Other Language, so if we want to translate from Other Language → English I added the reverse flag to reverse the pairs."
      ]
    },
    {
      "cell_type": "code",
      "metadata": {
        "execution": {
          "iopub.execute_input": "2021-06-03T12:59:42.315262Z",
          "iopub.status.busy": "2021-06-03T12:59:42.314941Z",
          "iopub.status.idle": "2021-06-03T12:59:42.320840Z",
          "shell.execute_reply": "2021-06-03T12:59:42.320006Z",
          "shell.execute_reply.started": "2021-06-03T12:59:42.315230Z"
        },
        "id": "9twxwaeONzeA"
      },
      "source": [
        "MAX_LENGTH = 10\n",
        "\n",
        "eng_prefixes = (\n",
        "    \"i am \", \"i m \",\n",
        "    \"he is\", \"he s \",\n",
        "    \"she is\", \"she s \",\n",
        "    \"you are\", \"you re \",\n",
        "    \"we are\", \"we re \",\n",
        "    \"they are\", \"they re \"\n",
        ")\n",
        "\n",
        "\n",
        "def filterPair(p):\n",
        "    return len(p[0].split(' ')) < MAX_LENGTH and \\\n",
        "        len(p[1].split(' ')) < MAX_LENGTH and \\\n",
        "        p[1].startswith(eng_prefixes)\n",
        "\n",
        "\n",
        "def filterPairs(pairs):\n",
        "    return [pair for pair in pairs if filterPair(pair)]"
      ],
      "execution_count": null,
      "outputs": []
    },
    {
      "cell_type": "markdown",
      "metadata": {
        "id": "MBSnTjS5NzeA"
      },
      "source": [
        "Since there are a lot of example sentences and we want to train something quickly, we’ll trim the data set to only relatively short and simple sentences. Here the maximum length is 10 words (that includes ending punctuation) and we’re filtering to sentences that translate to the form “I am” or “He is” etc. (accounting for apostrophes replaced earlier)."
      ]
    },
    {
      "cell_type": "markdown",
      "metadata": {
        "id": "NLRtch_1NzeB"
      },
      "source": [
        "The full process for preparing the data is:\n",
        "\n",
        "* Read text file and split into lines, split lines into pairs\n",
        "* Normalize text, filter by length and content\n",
        "* Make word lists from sentences in pairs"
      ]
    },
    {
      "cell_type": "code",
      "metadata": {
        "execution": {
          "iopub.execute_input": "2021-06-03T12:59:43.083881Z",
          "iopub.status.busy": "2021-06-03T12:59:43.083476Z",
          "iopub.status.idle": "2021-06-03T12:59:59.382432Z",
          "shell.execute_reply": "2021-06-03T12:59:59.381597Z",
          "shell.execute_reply.started": "2021-06-03T12:59:43.083846Z"
        },
        "id": "UkAQFonsNzeB",
        "outputId": "4a49a4d0-ac25-4749-b8e6-94f64db2af23"
      },
      "source": [
        "def prepareData(lang1, lang2, reverse=False):\n",
        "    input_lang, output_lang, pairs = readLangs(lang1, lang2, reverse)\n",
        "    print(\"Read %s sentence pairs\" % len(pairs))\n",
        "    pairs = filterPairs(pairs)\n",
        "    print(\"Trimmed to %s sentence pairs\" % len(pairs))\n",
        "    print(\"Counting words...\")\n",
        "    for pair in pairs:\n",
        "        input_lang.addSentence(pair[0])\n",
        "        output_lang.addSentence(pair[1])\n",
        "    print(\"Counted words:\")\n",
        "    print(input_lang.name, input_lang.n_words)\n",
        "    print(output_lang.name, output_lang.n_words)\n",
        "    return input_lang, output_lang, pairs\n",
        "\n",
        "\n",
        "input_lang, output_lang, pairs = prepareData('eng', 'fra', True)\n",
        "print(random.choice(pairs))"
      ],
      "execution_count": null,
      "outputs": [
        {
          "name": "stdout",
          "output_type": "stream",
          "text": [
            "Reading lines...\n",
            "Read 185583 sentence pairs\n",
            "Trimmed to 13732 sentence pairs\n",
            "Counting words...\n",
            "Counted words:\n",
            "fra 4972\n",
            "eng 3179\n",
            "['je ne ressens pas particulierement la faim .', 'i m not feeling particularly hungry .']\n"
          ]
        }
      ]
    },
    {
      "cell_type": "markdown",
      "metadata": {
        "id": "485OzJzjNzeB"
      },
      "source": [
        "[Back to Table of Contents](#0.1)\n",
        "\n",
        "[Back to fra-eng Table of Contents](#0.2)"
      ]
    },
    {
      "cell_type": "markdown",
      "metadata": {
        "id": "35jcOw3vNzeB"
      },
      "source": [
        "#### 4. Modeling : Seq2Seq Model and Attention Decoder <a class=\"fra-eng\" id=\"11\"></a>"
      ]
    },
    {
      "cell_type": "markdown",
      "metadata": {
        "id": "Gq0a_pAfNzeB"
      },
      "source": [
        "* The Encoder\n",
        "\n",
        "The encoder of a seq2seq network is a RNN that outputs some value for every word from the input sentence. For every input word the encoder outputs a vector and a hidden state, and uses the hidden state for the next input word.\n",
        "\n",
        "$\\;\\;\\;\\;\\;\\;\\;\\;$ \n",
        "<center><img src=\"https://pytorch.org/tutorials/_images/encoder-network.png\"/ width=\"300\" height=\"300\" ></center>\n",
        "\n",
        "$\\;\\;\\;\\;\\;\\;\\;\\;$"
      ]
    },
    {
      "cell_type": "code",
      "metadata": {
        "execution": {
          "iopub.execute_input": "2021-06-03T12:59:59.384281Z",
          "iopub.status.busy": "2021-06-03T12:59:59.383933Z",
          "iopub.status.idle": "2021-06-03T12:59:59.391829Z",
          "shell.execute_reply": "2021-06-03T12:59:59.390920Z",
          "shell.execute_reply.started": "2021-06-03T12:59:59.384245Z"
        },
        "id": "HCm8-K6ZNzeB"
      },
      "source": [
        "class EncoderRNN(nn.Module):\n",
        "    def __init__(self, input_size, hidden_size):\n",
        "        super(EncoderRNN, self).__init__()\n",
        "        self.hidden_size = hidden_size\n",
        "\n",
        "        self.embedding = nn.Embedding(input_size, hidden_size)\n",
        "        self.gru = nn.GRU(hidden_size, hidden_size)\n",
        "\n",
        "    def forward(self, input, hidden):\n",
        "        embedded = self.embedding(input).view(1, 1, -1)\n",
        "        output = embedded\n",
        "        output, hidden = self.gru(output, hidden)\n",
        "        return output, hidden\n",
        "\n",
        "    def initHidden(self):\n",
        "        return torch.zeros(1, 1, self.hidden_size, device=device)"
      ],
      "execution_count": null,
      "outputs": []
    },
    {
      "cell_type": "markdown",
      "metadata": {
        "id": "w9eycT2ENzeC"
      },
      "source": [
        "* The Decoder\n",
        "\n",
        "The decoder is another RNN that takes the encoder output vector(s) and outputs a sequence of words to create the translation.\n",
        "\n",
        "In the simplest seq2seq decoder we use only last output of the encoder. This last output is sometimes called the context vector as it encodes context from the entire sequence. This context vector is used as the initial hidden state of the decoder.\n",
        "\n",
        "At every step of decoding, the decoder is given an input token and hidden state. The initial input token is the start-of-string <SOS> token, and the first hidden state is the context vector (the encoder’s last hidden state).\n",
        "\n",
        "$\\;\\;\\;\\;\\;\\;\\;\\;$ \n",
        "<center><img src=\"https://pytorch.org/tutorials/_images/decoder-network.png\"/ width=\"300\" height=\"300\" ></center>\n",
        "\n",
        "$\\;\\;\\;\\;\\;\\;\\;\\;$"
      ]
    },
    {
      "cell_type": "code",
      "metadata": {
        "execution": {
          "iopub.execute_input": "2021-06-03T12:59:59.394153Z",
          "iopub.status.busy": "2021-06-03T12:59:59.393817Z",
          "iopub.status.idle": "2021-06-03T12:59:59.404354Z",
          "shell.execute_reply": "2021-06-03T12:59:59.403520Z",
          "shell.execute_reply.started": "2021-06-03T12:59:59.394117Z"
        },
        "id": "v7fChZWSNzeC"
      },
      "source": [
        "class DecoderRNN(nn.Module):\n",
        "    def __init__(self, hidden_size, output_size):\n",
        "        super(DecoderRNN, self).__init__()\n",
        "        self.hidden_size = hidden_size\n",
        "\n",
        "        self.embedding = nn.Embedding(output_size, hidden_size)\n",
        "        self.gru = nn.GRU(hidden_size, hidden_size)\n",
        "        self.out = nn.Linear(hidden_size, output_size)\n",
        "        self.softmax = nn.LogSoftmax(dim=1)\n",
        "\n",
        "    def forward(self, input, hidden):\n",
        "        output = self.embedding(input).view(1, 1, -1)\n",
        "        output = F.relu(output)\n",
        "        output, hidden = self.gru(output, hidden)\n",
        "        output = self.softmax(self.out(output[0]))\n",
        "        return output, hidden\n",
        "\n",
        "    def initHidden(self):\n",
        "        return torch.zeros(1, 1, self.hidden_size, device=device)"
      ],
      "execution_count": null,
      "outputs": []
    },
    {
      "cell_type": "markdown",
      "metadata": {
        "id": "DkuqG8aSNzeC"
      },
      "source": [
        "* Attention Decoder\n",
        "\n",
        "Attention allows the decoder network to “focus” on a different part of the encoder’s outputs for every step of the decoder’s own outputs. First we calculate a set of attention weights. These will be multiplied by the encoder output vectors to create a weighted combination. The result (called attn_applied in the code) should contain information about that specific part of the input sequence, and thus help the decoder choose the right output words.\n",
        "\n",
        "$\\;\\;\\;\\;\\;\\;\\;\\;$ \n",
        "<center><img src=\"https://i.imgur.com/1152PYf.png\"/ width=\"300\" height=\"300\" ></center>\n",
        "\n",
        "$\\;\\;\\;\\;\\;\\;\\;\\;$\n",
        "\n",
        "Calculating the attention weights is done with another feed-forward layer attn, using the decoder’s input and hidden state as inputs. Because there are sentences of all sizes in the training data, to actually create and train this layer we have to choose a maximum sentence length (input length, for encoder outputs) that it can apply to. Sentences of the maximum length will use all the attention weights, while shorter sentences will only use the first few.\n",
        "\n",
        "$\\;\\;\\;\\;\\;\\;\\;\\;$ \n",
        "<center><img src=\"https://pytorch.org/tutorials/_images/attention-decoder-network.png\"/ width=\"300\" height=\"300\" ></center>\n",
        "\n",
        "$\\;\\;\\;\\;\\;\\;\\;\\;$"
      ]
    },
    {
      "cell_type": "code",
      "metadata": {
        "execution": {
          "iopub.execute_input": "2021-06-03T12:59:59.406349Z",
          "iopub.status.busy": "2021-06-03T12:59:59.405932Z",
          "iopub.status.idle": "2021-06-03T12:59:59.417869Z",
          "shell.execute_reply": "2021-06-03T12:59:59.416745Z",
          "shell.execute_reply.started": "2021-06-03T12:59:59.406314Z"
        },
        "id": "ozERfXslNzeC"
      },
      "source": [
        "class AttnDecoderRNN(nn.Module):\n",
        "    def __init__(self, hidden_size, output_size, dropout_p=0.1, max_length=MAX_LENGTH):\n",
        "        super(AttnDecoderRNN, self).__init__()\n",
        "        self.hidden_size = hidden_size\n",
        "        self.output_size = output_size\n",
        "        self.dropout_p = dropout_p\n",
        "        self.max_length = max_length\n",
        "\n",
        "        self.embedding = nn.Embedding(self.output_size, self.hidden_size)\n",
        "        self.attn = nn.Linear(self.hidden_size * 2, self.max_length)\n",
        "        self.attn_combine = nn.Linear(self.hidden_size * 2, self.hidden_size)\n",
        "        self.dropout = nn.Dropout(self.dropout_p)\n",
        "        self.gru = nn.GRU(self.hidden_size, self.hidden_size)\n",
        "        self.out = nn.Linear(self.hidden_size, self.output_size)\n",
        "\n",
        "    def forward(self, input, hidden, encoder_outputs):\n",
        "        embedded = self.embedding(input).view(1, 1, -1)\n",
        "        embedded = self.dropout(embedded)\n",
        "\n",
        "        attn_weights = F.softmax(\n",
        "            self.attn(torch.cat((embedded[0], hidden[0]), 1)), dim=1)\n",
        "        attn_applied = torch.bmm(attn_weights.unsqueeze(0),\n",
        "                                 encoder_outputs.unsqueeze(0))\n",
        "\n",
        "        output = torch.cat((embedded[0], attn_applied[0]), 1)\n",
        "        output = self.attn_combine(output).unsqueeze(0)\n",
        "\n",
        "        output = F.relu(output)\n",
        "        output, hidden = self.gru(output, hidden)\n",
        "\n",
        "        output = F.log_softmax(self.out(output[0]), dim=1)\n",
        "        return output, hidden, attn_weights\n",
        "\n",
        "    def initHidden(self):\n",
        "        return torch.zeros(1, 1, self.hidden_size, device=device)"
      ],
      "execution_count": null,
      "outputs": []
    },
    {
      "cell_type": "markdown",
      "metadata": {
        "id": "tbii5Ie6NzeC"
      },
      "source": [
        "[Back to Table of Contents](#0.1)\n",
        "\n",
        "[Back to fra-eng Table of Contents](#0.2)"
      ]
    },
    {
      "cell_type": "markdown",
      "metadata": {
        "id": "BuEtnAjcNzeD"
      },
      "source": [
        "#### 5. Train Data Preparation <a class=\"fra-eng\" id=\"12\"></a>"
      ]
    },
    {
      "cell_type": "code",
      "metadata": {
        "execution": {
          "iopub.execute_input": "2021-06-03T12:59:59.419742Z",
          "iopub.status.busy": "2021-06-03T12:59:59.419301Z",
          "iopub.status.idle": "2021-06-03T12:59:59.430549Z",
          "shell.execute_reply": "2021-06-03T12:59:59.429857Z",
          "shell.execute_reply.started": "2021-06-03T12:59:59.419710Z"
        },
        "id": "YjbdCOR6NzeD"
      },
      "source": [
        "def indexesFromSentence(lang, sentence):\n",
        "    return [lang.word2index[word] for word in sentence.split(' ')]\n",
        "\n",
        "\n",
        "def tensorFromSentence(lang, sentence):\n",
        "    indexes = indexesFromSentence(lang, sentence)\n",
        "    indexes.append(EOS_token)\n",
        "    return torch.tensor(indexes, dtype=torch.long, device=device).view(-1, 1)\n",
        "\n",
        "\n",
        "def tensorsFromPair(pair):\n",
        "    input_tensor = tensorFromSentence(input_lang, pair[0])\n",
        "    target_tensor = tensorFromSentence(output_lang, pair[1])\n",
        "    return (input_tensor, target_tensor)"
      ],
      "execution_count": null,
      "outputs": []
    },
    {
      "cell_type": "markdown",
      "metadata": {
        "id": "kvxhUhFUNzeD"
      },
      "source": [
        "To train, for each pair we will need an input tensor (indexes of the words in the input sentence) and target tensor (indexes of the words in the target sentence). While creating these vectors we will append the EOS token to both sequences."
      ]
    },
    {
      "cell_type": "markdown",
      "metadata": {
        "id": "WNrkuQZwNzeD"
      },
      "source": [
        "#### 6. Train Data Preparation <a class=\"fra-eng\" id=\"13\"></a>\n",
        "\n",
        "To train we run the input sentence through the encoder, and keep track of every output and the latest hidden state. Then the decoder is given the <SOS> token as its first input, and the last hidden state of the encoder as its first hidden state.\n",
        "\n",
        "“Teacher forcing” is the concept of using the real target outputs as each next input, instead of using the decoder’s guess as the next input. Using teacher forcing causes it to converge faster but when the trained network is exploited, it may exhibit instability.\n",
        "\n",
        "You can observe outputs of teacher-forced networks that read with coherent grammar but wander far from the correct translation - intuitively it has learned to represent the output grammar and can “pick up” the meaning once the teacher tells it the first few words, but it has not properly learned how to create the sentence from the translation in the first place.\n",
        "\n",
        "Because of the freedom PyTorch’s autograd gives us, we can randomly choose to use teacher forcing or not with a simple if statement. Turn teacher_forcing_ratio up to use more of it."
      ]
    },
    {
      "cell_type": "code",
      "metadata": {
        "execution": {
          "iopub.execute_input": "2021-06-03T12:59:59.433322Z",
          "iopub.status.busy": "2021-06-03T12:59:59.433024Z",
          "iopub.status.idle": "2021-06-03T12:59:59.443869Z",
          "shell.execute_reply": "2021-06-03T12:59:59.442946Z",
          "shell.execute_reply.started": "2021-06-03T12:59:59.433298Z"
        },
        "id": "9fZsBATRNzeD"
      },
      "source": [
        "teacher_forcing_ratio = 0.5\n",
        "\n",
        "\n",
        "def train(input_tensor, target_tensor, encoder, decoder, encoder_optimizer, decoder_optimizer, criterion, max_length=MAX_LENGTH):\n",
        "    encoder_hidden = encoder.initHidden()\n",
        "\n",
        "    encoder_optimizer.zero_grad()\n",
        "    decoder_optimizer.zero_grad()\n",
        "\n",
        "    input_length = input_tensor.size(0)\n",
        "    target_length = target_tensor.size(0)\n",
        "\n",
        "    encoder_outputs = torch.zeros(max_length, encoder.hidden_size, device=device)\n",
        "\n",
        "    loss = 0\n",
        "\n",
        "    for ei in range(input_length):\n",
        "        encoder_output, encoder_hidden = encoder(\n",
        "            input_tensor[ei], encoder_hidden)\n",
        "        encoder_outputs[ei] = encoder_output[0, 0]\n",
        "\n",
        "    decoder_input = torch.tensor([[SOS_token]], device=device)\n",
        "\n",
        "    decoder_hidden = encoder_hidden\n",
        "\n",
        "    use_teacher_forcing = True if random.random() < teacher_forcing_ratio else False\n",
        "\n",
        "    if use_teacher_forcing:\n",
        "        # Teacher forcing: Feed the target as the next input\n",
        "        for di in range(target_length):\n",
        "            decoder_output, decoder_hidden, decoder_attention = decoder(\n",
        "                decoder_input, decoder_hidden, encoder_outputs)\n",
        "            loss += criterion(decoder_output, target_tensor[di])\n",
        "            decoder_input = target_tensor[di]  # Teacher forcing\n",
        "\n",
        "    else:\n",
        "        # Without teacher forcing: use its own predictions as the next input\n",
        "        for di in range(target_length):\n",
        "            decoder_output, decoder_hidden, decoder_attention = decoder(\n",
        "                decoder_input, decoder_hidden, encoder_outputs)\n",
        "            topv, topi = decoder_output.topk(1)\n",
        "            decoder_input = topi.squeeze().detach()  # detach from history as input\n",
        "\n",
        "            loss += criterion(decoder_output, target_tensor[di])\n",
        "            if decoder_input.item() == EOS_token:\n",
        "                break\n",
        "\n",
        "    loss.backward()\n",
        "\n",
        "    encoder_optimizer.step()\n",
        "    decoder_optimizer.step()\n",
        "\n",
        "    return loss.item() / target_length"
      ],
      "execution_count": null,
      "outputs": []
    },
    {
      "cell_type": "code",
      "metadata": {
        "execution": {
          "iopub.execute_input": "2021-06-03T12:59:59.445539Z",
          "iopub.status.busy": "2021-06-03T12:59:59.444982Z",
          "iopub.status.idle": "2021-06-03T12:59:59.456719Z",
          "shell.execute_reply": "2021-06-03T12:59:59.455996Z",
          "shell.execute_reply.started": "2021-06-03T12:59:59.445504Z"
        },
        "id": "zgATMgJZNzeD"
      },
      "source": [
        "import time\n",
        "import math\n",
        "\n",
        "\n",
        "def asMinutes(s):\n",
        "    m = math.floor(s / 60)\n",
        "    s -= m * 60\n",
        "    return '%dm %ds' % (m, s)\n",
        "\n",
        "\n",
        "def timeSince(since, percent):\n",
        "    now = time.time()\n",
        "    s = now - since\n",
        "    es = s / (percent)\n",
        "    rs = es - s\n",
        "    return '%s (- %s)' % (asMinutes(s), asMinutes(rs))"
      ],
      "execution_count": null,
      "outputs": []
    },
    {
      "cell_type": "markdown",
      "metadata": {
        "id": "OYrXVRRUNzeE"
      },
      "source": [
        "This is a helper function to print time elapsed and estimated time remaining given the current time and progress %."
      ]
    },
    {
      "cell_type": "markdown",
      "metadata": {
        "id": "1jMV47ufNzeE"
      },
      "source": [
        "The whole training process looks like this:\n",
        "\n",
        "* Start a timer\n",
        "* Initialize optimizers and criterion\n",
        "* Create set of training pairs\n",
        "* Start empty losses array for plotting\n",
        "\n",
        "Then we call train many times and occasionally print the progress (% of examples, time so far, estimated time) and average loss."
      ]
    },
    {
      "cell_type": "code",
      "metadata": {
        "execution": {
          "iopub.execute_input": "2021-06-03T12:59:59.459548Z",
          "iopub.status.busy": "2021-06-03T12:59:59.459167Z",
          "iopub.status.idle": "2021-06-03T12:59:59.474302Z",
          "shell.execute_reply": "2021-06-03T12:59:59.473269Z",
          "shell.execute_reply.started": "2021-06-03T12:59:59.459500Z"
        },
        "id": "o2Xx-DTJNzeE"
      },
      "source": [
        "%matplotlib inline\n",
        "def trainIters(encoder, decoder, n_iters, print_every=1000, plot_every=100, learning_rate=0.01):\n",
        "    start = time.time()\n",
        "    plot_losses = []\n",
        "    print_loss_total = 0  # Reset every print_every\n",
        "    plot_loss_total = 0  # Reset every plot_every\n",
        "\n",
        "    encoder_optimizer = optim.SGD(encoder.parameters(), lr=learning_rate)\n",
        "    decoder_optimizer = optim.SGD(decoder.parameters(), lr=learning_rate)\n",
        "    training_pairs = [tensorsFromPair(random.choice(pairs))\n",
        "                      for i in range(n_iters)]\n",
        "    criterion = nn.NLLLoss()\n",
        "\n",
        "    for iter in range(1, n_iters + 1):\n",
        "        training_pair = training_pairs[iter - 1]\n",
        "        input_tensor = training_pair[0]\n",
        "        target_tensor = training_pair[1]\n",
        "\n",
        "        loss = train(input_tensor, target_tensor, encoder,\n",
        "                     decoder, encoder_optimizer, decoder_optimizer, criterion)\n",
        "        print_loss_total += loss\n",
        "        plot_loss_total += loss\n",
        "\n",
        "        if iter % print_every == 0:\n",
        "            print_loss_avg = print_loss_total / print_every\n",
        "            print_loss_total = 0\n",
        "            print('%s (%d %d%%) %.4f' % (timeSince(start, iter / n_iters),\n",
        "                                         iter, iter / n_iters * 100, print_loss_avg))\n",
        "\n",
        "        if iter % plot_every == 0:\n",
        "            plot_loss_avg = plot_loss_total / plot_every\n",
        "            plot_losses.append(plot_loss_avg)\n",
        "            plot_loss_total = 0\n",
        "\n",
        "    showPlot(plot_losses)"
      ],
      "execution_count": null,
      "outputs": []
    },
    {
      "cell_type": "code",
      "metadata": {
        "execution": {
          "iopub.execute_input": "2021-06-03T12:59:59.476373Z",
          "iopub.status.busy": "2021-06-03T12:59:59.475933Z",
          "iopub.status.idle": "2021-06-03T12:59:59.486033Z",
          "shell.execute_reply": "2021-06-03T12:59:59.485224Z",
          "shell.execute_reply.started": "2021-06-03T12:59:59.476338Z"
        },
        "id": "BhqKHuWbNzeE"
      },
      "source": [
        "import matplotlib.pyplot as plt\n",
        "%matplotlib inline\n",
        "\n",
        "plt.switch_backend('agg')\n",
        "import matplotlib.ticker as ticker\n",
        "import numpy as np\n",
        "\n",
        "\n",
        "def showPlot(points):\n",
        "    plt.figure()\n",
        "    fig, ax = plt.subplots()\n",
        "    \n",
        "    # this locator puts ticks at regular intervals\n",
        "    loc = ticker.MultipleLocator(base=0.2)\n",
        "    ax.yaxis.set_major_locator(loc)\n",
        "    plt.plot(points)"
      ],
      "execution_count": null,
      "outputs": []
    },
    {
      "cell_type": "markdown",
      "metadata": {
        "id": "JX1QaqTMNzeE"
      },
      "source": [
        "Plotting is done with matplotlib, using the array of loss values plot_losses saved while training.\n",
        "\n",
        "[Back to Table of Contents](#0.1)\n",
        "\n",
        "[Back to fra-eng Table of Contents](#0.2)"
      ]
    },
    {
      "cell_type": "markdown",
      "metadata": {
        "id": "1Ib01CgLNzeE"
      },
      "source": [
        "#### 7. Evaluation <a class=\"fra-eng\" id=\"14\"></a>\n",
        "\n",
        "\n",
        "Evaluation is mostly the same as training, but there are no targets so we simply feed the decoder’s predictions back to itself for each step. Every time it predicts a word we add it to the output string, and if it predicts the EOS token we stop there. We also store the decoder’s attention outputs for display later."
      ]
    },
    {
      "cell_type": "code",
      "metadata": {
        "execution": {
          "iopub.execute_input": "2021-06-03T12:59:59.487688Z",
          "iopub.status.busy": "2021-06-03T12:59:59.487270Z",
          "iopub.status.idle": "2021-06-03T12:59:59.499958Z",
          "shell.execute_reply": "2021-06-03T12:59:59.499010Z",
          "shell.execute_reply.started": "2021-06-03T12:59:59.487639Z"
        },
        "id": "soApQIlINzeE"
      },
      "source": [
        "def evaluate(encoder, decoder, sentence, max_length=MAX_LENGTH):\n",
        "    with torch.no_grad():\n",
        "        input_tensor = tensorFromSentence(input_lang, sentence)\n",
        "        input_length = input_tensor.size()[0]\n",
        "        encoder_hidden = encoder.initHidden()\n",
        "\n",
        "        encoder_outputs = torch.zeros(max_length, encoder.hidden_size, device=device)\n",
        "\n",
        "        for ei in range(input_length):\n",
        "            encoder_output, encoder_hidden = encoder(input_tensor[ei],\n",
        "                                                     encoder_hidden)\n",
        "            encoder_outputs[ei] += encoder_output[0, 0]\n",
        "\n",
        "        decoder_input = torch.tensor([[SOS_token]], device=device)  # SOS\n",
        "\n",
        "        decoder_hidden = encoder_hidden\n",
        "\n",
        "        decoded_words = []\n",
        "        decoder_attentions = torch.zeros(max_length, max_length)\n",
        "\n",
        "        for di in range(max_length):\n",
        "            decoder_output, decoder_hidden, decoder_attention = decoder(\n",
        "                decoder_input, decoder_hidden, encoder_outputs)\n",
        "            decoder_attentions[di] = decoder_attention.data\n",
        "            topv, topi = decoder_output.data.topk(1)\n",
        "            if topi.item() == EOS_token:\n",
        "                decoded_words.append('<EOS>')\n",
        "                break\n",
        "            else:\n",
        "                decoded_words.append(output_lang.index2word[topi.item()])\n",
        "\n",
        "            decoder_input = topi.squeeze().detach()\n",
        "\n",
        "        return decoded_words, decoder_attentions[:di + 1]"
      ],
      "execution_count": null,
      "outputs": []
    },
    {
      "cell_type": "code",
      "metadata": {
        "execution": {
          "iopub.execute_input": "2021-06-03T12:59:59.501847Z",
          "iopub.status.busy": "2021-06-03T12:59:59.501370Z",
          "iopub.status.idle": "2021-06-03T12:59:59.510639Z",
          "shell.execute_reply": "2021-06-03T12:59:59.509711Z",
          "shell.execute_reply.started": "2021-06-03T12:59:59.501808Z"
        },
        "id": "MI3UMb8cNzeF"
      },
      "source": [
        "def evaluateRandomly(encoder, decoder, n=10):\n",
        "    for i in range(n):\n",
        "        pair = random.choice(pairs)\n",
        "        print('>', pair[0])\n",
        "        print('=', pair[1])\n",
        "        output_words, attentions = evaluate(encoder, decoder, pair[0])\n",
        "        output_sentence = ' '.join(output_words)\n",
        "        print('<', output_sentence)\n",
        "        print('')"
      ],
      "execution_count": null,
      "outputs": []
    },
    {
      "cell_type": "markdown",
      "metadata": {
        "id": "AAOj-jRQNzeF"
      },
      "source": [
        "We can evaluate random sentences from the training set and print out the input, target, and output to make some subjective quality judgements"
      ]
    },
    {
      "cell_type": "markdown",
      "metadata": {
        "id": "ncJc6T5oNzeF"
      },
      "source": [
        "#### 8. Training and Evaluating <a class=\"fra-eng\" id=\"15\"></a>"
      ]
    },
    {
      "cell_type": "code",
      "metadata": {
        "execution": {
          "iopub.execute_input": "2021-06-03T12:59:59.512425Z",
          "iopub.status.busy": "2021-06-03T12:59:59.511926Z",
          "iopub.status.idle": "2021-06-03T13:24:16.352515Z",
          "shell.execute_reply": "2021-06-03T13:24:16.351607Z",
          "shell.execute_reply.started": "2021-06-03T12:59:59.512374Z"
        },
        "id": "-1xuc9C6NzeF",
        "outputId": "41454968-1fa8-425f-d110-5929e14e0990"
      },
      "source": [
        "hidden_size = 256\n",
        "encoder1 = EncoderRNN(input_lang.n_words, hidden_size).to(device)\n",
        "attn_decoder1 = AttnDecoderRNN(hidden_size, output_lang.n_words, dropout_p=0.1).to(device)\n",
        "\n",
        "trainIters(encoder1, attn_decoder1, 75000, print_every=5000)"
      ],
      "execution_count": null,
      "outputs": [
        {
          "name": "stdout",
          "output_type": "stream",
          "text": [
            "1m 39s (- 23m 14s) (5000 6%) 2.8987\n",
            "3m 13s (- 21m 0s) (10000 13%) 2.3419\n",
            "4m 49s (- 19m 16s) (15000 20%) 2.0203\n",
            "6m 24s (- 17m 37s) (20000 26%) 1.7932\n",
            "8m 0s (- 16m 1s) (25000 33%) 1.6271\n",
            "9m 38s (- 14m 27s) (30000 40%) 1.4799\n",
            "11m 15s (- 12m 51s) (35000 46%) 1.3693\n",
            "12m 52s (- 11m 15s) (40000 53%) 1.2639\n",
            "14m 30s (- 9m 40s) (45000 60%) 1.1523\n",
            "16m 6s (- 8m 3s) (50000 66%) 1.0411\n",
            "17m 45s (- 6m 27s) (55000 73%) 0.9861\n",
            "19m 22s (- 4m 50s) (60000 80%) 0.8950\n",
            "21m 0s (- 3m 13s) (65000 86%) 0.8242\n",
            "22m 38s (- 1m 37s) (70000 93%) 0.7506\n",
            "24m 16s (- 0m 0s) (75000 100%) 0.7006\n"
          ]
        },
        {
          "data": {
            "text/plain": [
              "<Figure size 432x288 with 0 Axes>"
            ]
          },
          "metadata": {},
          "output_type": "display_data"
        },
        {
          "data": {
            "image/png": "[encoded data removed]",
            "text/plain": [
              "<Figure size 432x288 with 1 Axes>"
            ]
          },
          "metadata": {
            "needs_background": "light"
          },
          "output_type": "display_data"
        }
      ]
    },
    {
      "cell_type": "markdown",
      "metadata": {
        "id": "ezI02z5rNzeF"
      },
      "source": [
        "You can see that the leftmost loss decreases as the learning progresses. We also show fast learning time on a large number of 75,000 data."
      ]
    },
    {
      "cell_type": "code",
      "metadata": {
        "execution": {
          "iopub.execute_input": "2021-06-03T13:24:16.354130Z",
          "iopub.status.busy": "2021-06-03T13:24:16.353814Z",
          "iopub.status.idle": "2021-06-03T13:24:16.435324Z",
          "shell.execute_reply": "2021-06-03T13:24:16.434032Z",
          "shell.execute_reply.started": "2021-06-03T13:24:16.354104Z"
        },
        "id": "WGBjcu_XNzeF",
        "outputId": "62825274-5cdf-437c-bb8e-47cc7452e0d3"
      },
      "source": [
        "evaluateRandomly(encoder1, attn_decoder1)"
      ],
      "execution_count": null,
      "outputs": [
        {
          "name": "stdout",
          "output_type": "stream",
          "text": [
            "> je suis triste sans vous .\n",
            "= i m sad without you .\n",
            "< i m sad without you . <EOS>\n",
            "\n",
            "> ils sourient .\n",
            "= they re smiling .\n",
            "< they re smiling . <EOS>\n",
            "\n",
            "> je ne suis pas sourd .\n",
            "= i am not deaf .\n",
            "< i m not deaf . <EOS>\n",
            "\n",
            "> vous etes tous satisfaits .\n",
            "= you re all happy .\n",
            "< you re all happy . <EOS>\n",
            "\n",
            "> je ne suis pas fier de moi .\n",
            "= i m not proud of myself .\n",
            "< i m not proud of myself . <EOS>\n",
            "\n",
            "> je suis toujours fatigue .\n",
            "= i m always tired .\n",
            "< i m always tired . <EOS>\n",
            "\n",
            "> je suis aneanti .\n",
            "= i m devastated .\n",
            "< i m a . . <EOS>\n",
            "\n",
            "> c est ma fille .\n",
            "= she s my daughter .\n",
            "< she s my daughter . <EOS>\n",
            "\n",
            "> tu es beau .\n",
            "= you are beautiful .\n",
            "< you re beautiful . <EOS>\n",
            "\n",
            "> je vais changer tout ca .\n",
            "= i m going to change all that .\n",
            "< i m going to miss it . <EOS>\n",
            "\n"
          ]
        }
      ]
    },
    {
      "cell_type": "markdown",
      "metadata": {
        "id": "M3_uPH_zNzeF"
      },
      "source": [
        "[Back to Table of Contents](#0.1)\n",
        "\n",
        "[Back to fra-eng Table of Contents](#0.2)"
      ]
    },
    {
      "cell_type": "markdown",
      "metadata": {
        "id": "Y4fxu9FKNzeG"
      },
      "source": [
        "#### 8. Visualize the Attention Process <a class=\"fra-eng\" id=\"16\"></a>\n",
        "\n",
        "A useful property of the attention mechanism is its highly interpretable outputs. Because it is used to weight specific encoder outputs of the input sequence, we can imagine looking where the network is focused most at each time step."
      ]
    },
    {
      "cell_type": "code",
      "metadata": {
        "execution": {
          "iopub.execute_input": "2021-06-03T13:24:16.436852Z",
          "iopub.status.busy": "2021-06-03T13:24:16.436500Z",
          "iopub.status.idle": "2021-06-03T13:24:16.657327Z",
          "shell.execute_reply": "2021-06-03T13:24:16.656459Z",
          "shell.execute_reply.started": "2021-06-03T13:24:16.436815Z"
        },
        "id": "-NvWtgQ8NzeG",
        "outputId": "d17b9cef-3e89-4ba8-b1a9-6710107c5d73"
      },
      "source": [
        "%matplotlib inline\n",
        "output_words, attentions = evaluate(\n",
        "    encoder1, attn_decoder1, \"je suis trop froid .\")\n",
        "plt.matshow(attentions.numpy())"
      ],
      "execution_count": null,
      "outputs": [
        {
          "data": {
            "text/plain": [
              "<matplotlib.image.AxesImage at 0x7fb0e1db2750>"
            ]
          },
          "execution_count": 43,
          "metadata": {},
          "output_type": "execute_result"
        },
        {
          "data": {
            "image/png": "[encoded data removed]",
            "text/plain": [
              "<Figure size 480x288 with 1 Axes>"
            ]
          },
          "metadata": {
            "needs_background": "light"
          },
          "output_type": "display_data"
        }
      ]
    },
    {
      "cell_type": "markdown",
      "metadata": {
        "id": "qaVioq2uNzeG"
      },
      "source": [
        "For a better viewing experience we will do the extra work of adding axes and labels"
      ]
    },
    {
      "cell_type": "code",
      "metadata": {
        "execution": {
          "iopub.execute_input": "2021-06-03T13:24:16.663920Z",
          "iopub.status.busy": "2021-06-03T13:24:16.661549Z",
          "iopub.status.idle": "2021-06-03T13:24:18.134028Z",
          "shell.execute_reply": "2021-06-03T13:24:18.133110Z",
          "shell.execute_reply.started": "2021-06-03T13:24:16.663876Z"
        },
        "id": "qyoPT3s1NzeG",
        "outputId": "3d42e19d-3b0a-4b01-865f-6b77cfbee7fb"
      },
      "source": [
        "def showAttention(input_sentence, output_words, attentions):\n",
        "    # colorbar로 그림 설정\n",
        "    fig = plt.figure()\n",
        "    ax = fig.add_subplot(111)\n",
        "    cax = ax.matshow(attentions.numpy(), cmap='bone')\n",
        "    fig.colorbar(cax)\n",
        "\n",
        "    # 축 설정\n",
        "    ax.set_xticklabels([''] + input_sentence.split(' ') +\n",
        "                       ['<EOS>'], rotation=90)\n",
        "    ax.set_yticklabels([''] + output_words)\n",
        "\n",
        "    # 매 틱마다 라벨 보여주기\n",
        "    ax.xaxis.set_major_locator(ticker.MultipleLocator(1))\n",
        "    ax.yaxis.set_major_locator(ticker.MultipleLocator(1))\n",
        "\n",
        "    plt.show()\n",
        "\n",
        "\n",
        "def evaluateAndShowAttention(input_sentence):\n",
        "    output_words, attentions = evaluate(\n",
        "        encoder1, attn_decoder1, input_sentence)\n",
        "    print('input =', input_sentence)\n",
        "    print('output =', ' '.join(output_words))\n",
        "    showAttention(input_sentence, output_words, attentions)\n",
        "\n",
        "\n",
        "evaluateAndShowAttention(\"elle a cinq ans de moins que moi .\")\n",
        "\n",
        "evaluateAndShowAttention(\"elle est trop petit .\")\n",
        "\n",
        "evaluateAndShowAttention(\"je ne crains pas de mourir .\")\n",
        "\n",
        "evaluateAndShowAttention(\"c est un jeune directeur plein de talent .\")"
      ],
      "execution_count": null,
      "outputs": [
        {
          "name": "stdout",
          "output_type": "stream",
          "text": [
            "input = elle a cinq ans de moins que moi .\n",
            "output = she is five years younger than i am . <EOS>\n"
          ]
        },
        {
          "name": "stderr",
          "output_type": "stream",
          "text": [
            "/opt/conda/lib/python3.7/site-packages/ipykernel_launcher.py:10: UserWarning: FixedFormatter should only be used together with FixedLocator\n",
            "  # Remove the CWD from sys.path while we load stuff.\n",
            "/opt/conda/lib/python3.7/site-packages/ipykernel_launcher.py:11: UserWarning: FixedFormatter should only be used together with FixedLocator\n",
            "  # This is added back by InteractiveShellApp.init_path()\n"
          ]
        },
        {
          "data": {
            "image/png": "[encoded data removed]",
            "text/plain": [
              "<Figure size 432x288 with 2 Axes>"
            ]
          },
          "metadata": {
            "needs_background": "light"
          },
          "output_type": "display_data"
        },
        {
          "name": "stdout",
          "output_type": "stream",
          "text": [
            "input = elle est trop petit .\n",
            "output = she is too close . <EOS>\n"
          ]
        },
        {
          "data": {
            "image/png": "[encoded data removed]",
            "text/plain": [
              "<Figure size 432x288 with 2 Axes>"
            ]
          },
          "metadata": {
            "needs_background": "light"
          },
          "output_type": "display_data"
        },
        {
          "name": "stdout",
          "output_type": "stream",
          "text": [
            "input = je ne crains pas de mourir .\n",
            "output = i m not scared to die . <EOS>\n"
          ]
        },
        {
          "data": {
            "image/png": "[encoded data removed]",
            "text/plain": [
              "<Figure size 432x288 with 2 Axes>"
            ]
          },
          "metadata": {
            "needs_background": "light"
          },
          "output_type": "display_data"
        },
        {
          "name": "stdout",
          "output_type": "stream",
          "text": [
            "input = c est un jeune directeur plein de talent .\n",
            "output = he s a talented young lady . <EOS>\n"
          ]
        },
        {
          "data": {
            "image/png": "[encoded data removed]",
            "text/plain": [
              "<Figure size 432x288 with 2 Axes>"
            ]
          },
          "metadata": {
            "needs_background": "light"
          },
          "output_type": "display_data"
        }
      ]
    },
    {
      "cell_type": "markdown",
      "metadata": {
        "id": "L1a3GYF4NzeG"
      },
      "source": [
        "# 8. Conclusion <a class=\"anchor\" id=\"17\"></a>\n",
        "\n",
        "Attention Mechanism has been proposed in RNN to prevent deterioration in translation performance due to bottlenecks when sentence length is extended. Recently, self-attention concepts that parallelize them have emerged, and even models that use self-attention to perform better without RNN (Transformer, BERT, etc.) have been pouring out. In order to understand and learn the underlying skills of the latest models, I think it is essential to study Attention Mechanism well.\n",
        "\n",
        "[Back to Table of Contents](#0.1)\n",
        "\n",
        "[Back to fra-eng Table of Contents](#0.2)"
      ]
    },
    {
      "cell_type": "markdown",
      "metadata": {
        "id": "A4AOofmtNzeH"
      },
      "source": [
        "# 9. References <a class=\"anchor\" id=\"18\"></a>\n",
        "\n",
        "* NEURAL MACHINE TRANSLATION BY JOINTLY LEARNING TO ALIGN AND TRANSLATE : https://arxiv.org/pdf/1409.0473.pdf\n",
        "\n",
        "* Attention Mechanism Cleanup Notes : https://wikidocs.net/22893\n",
        "\n",
        "* Attention Mechanism blog1 : http://blog.naver.com/PostView.nhn?blogId=ckdgus1433&logNo=221608376139\n",
        "\n",
        "* Attention Mechanism blog2 : https://sy-programmingstudy.tistory.com/14\n",
        "\n",
        "* Teacher Forcing : https://m.blog.naver.com/PostView.nhn?blogId=sooftware&logNo=221790750668&categoryNo=16&proxyReferer=https:%2F%2Fwww.google.com%2F\n",
        "\n",
        "* Attention Mechanism YouTube : https://www.youtube.com/watch?v=WsQLdu2JMgI&t=364s\n",
        "\n",
        "* Attention Mechanism using Tensorflow YouTube : https://www.youtube.com/watch?v=aUsGQaqYYBk&t=3202s\n",
        "\n",
        "* NLP FROM SCRATCH: TRANSLATION WITH A SEQUENCE TO SEQUENCE NETWORK AND ATTENTION : https://pytorch.org/tutorials/intermediate/seq2seq_translation_tutorial.html#nlp-from-scratch-translation-with-a-sequence-to-sequence-network-and-attention\n",
        "\n",
        "* fra-eng data : https://www.manythings.org/anki/\n",
        "\n",
        "For more details: https://www.kaggle.com/jeongwonkim10516/attention-mechanism-for-nlp-beginners/log\n",
        "*italicized text*"
      ]
    }
  ]
}