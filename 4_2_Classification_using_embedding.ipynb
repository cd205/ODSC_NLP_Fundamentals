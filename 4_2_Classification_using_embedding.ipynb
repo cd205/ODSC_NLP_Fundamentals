{
  "nbformat": 4,
  "nbformat_minor": 0,
  "metadata": {
    "kernelspec": {
      "display_name": "Python 3",
      "language": "python",
      "name": "python3"
    },
    "language_info": {
      "codemirror_mode": {
        "name": "ipython",
        "version": 3
      },
      "file_extension": ".py",
      "mimetype": "text/x-python",
      "name": "python",
      "nbconvert_exporter": "python",
      "pygments_lexer": "ipython3",
      "version": "3.6.8"
    },
    "colab": {
      "name": "4.2 Classification using embedding.ipynb",
      "provenance": [],
      "collapsed_sections": []
    }
  },
  "cells": [
    {
      "cell_type": "markdown",
      "metadata": {
        "id": "3p7sxZGWUrjn"
      },
      "source": [
        "# Embeddings\n",
        "An example of how to create  text embedding in keras.\n",
        "\n",
        "Please complete the code in the where you find the \"# complete here\" commnet."
      ]
    },
    {
      "cell_type": "code",
      "metadata": {
        "colab": {
          "base_uri": "https://localhost:8080/"
        },
        "id": "_ur0h1-g9uMk",
        "outputId": "48f2f347-1c9f-4fca-80e5-c01aca53bf0f"
      },
      "source": [
        "from google.colab import drive\n",
        "drive.mount('/content/drive')"
      ],
      "execution_count": null,
      "outputs": [
        {
          "output_type": "stream",
          "name": "stdout",
          "text": [
            "Mounted at /content/drive\n"
          ]
        }
      ]
    },
    {
      "cell_type": "code",
      "metadata": {
        "ExecuteTime": {
          "end_time": "2019-03-16T19:26:01.063156Z",
          "start_time": "2019-03-16T19:25:49.514927Z"
        },
        "id": "1782E0QOTlZb"
      },
      "source": [
        "import numpy as np\n",
        "import os\n",
        "from sklearn.datasets import fetch_20newsgroups\n",
        "from sklearn.pipeline import Pipeline\n",
        "from sklearn.ensemble import RandomForestClassifier\n",
        "from sklearn.metrics import roc_auc_score\n",
        "from sklearn.metrics import confusion_matrix\n",
        "\n",
        "# Deciding which embedding to use\n",
        "possible_word_vectors = (50, 100, 200, 300)\n",
        "word_vectors = possible_word_vectors[0]\n",
        "\n",
        "file_name = f'glove.6B.{word_vectors}d.txt'\n",
        "\n",
        "filepath = '../data/'\n",
        "filepath = '/content/drive/MyDrive/Colab Notebooks/DL/input/'\n",
        "pretrained_embedding = os.path.join(filepath, file_name)\n",
        "\n",
        "    \n",
        "embeddings_index = {}\n",
        "with open(pretrained_embedding, \"rb\") as f:\n",
        "    for line in f:\n",
        "        values = line.split()\n",
        "        word = values[0].decode(\"utf-8\") \n",
        "        coefs = np.asarray(values[1:], dtype='float32')\n",
        "        embeddings_index[word] = coefs\n"
      ],
      "execution_count": null,
      "outputs": []
    },
    {
      "cell_type": "code",
      "metadata": {
        "ExecuteTime": {
          "end_time": "2019-03-16T20:38:30.071438Z",
          "start_time": "2019-03-16T20:38:29.453834Z"
        },
        "id": "C9B27XWbTlZg"
      },
      "source": [
        "# Getting the data\n",
        "cats = ['alt.atheism', 'sci.space']\n",
        "# After try a multiclass example\n",
        "# cats = ['alt.atheism', 'talk.religion.misc',\n",
        "#         'comp.graphics', 'sci.space']\n",
        "\n",
        "newsgroups_train = fetch_20newsgroups(subset='train', categories=cats)\n",
        "newsgroups_test = fetch_20newsgroups(subset='test', categories=cats)\n",
        "\n",
        "X_train = newsgroups_train['data']\n",
        "y_train = newsgroups_train['target']\n",
        "\n",
        "X_test = newsgroups_test['data']\n",
        "y_test = newsgroups_test['target']"
      ],
      "execution_count": null,
      "outputs": []
    },
    {
      "cell_type": "code",
      "metadata": {
        "ExecuteTime": {
          "end_time": "2019-03-16T20:38:37.755700Z",
          "start_time": "2019-03-16T20:38:37.745110Z"
        },
        "id": "I6l-6CQnTlZk"
      },
      "source": [
        "class EmbeddingVectorizer(object):\n",
        "    \"\"\"\n",
        "    Follows the scikit-learn API\n",
        "    Transform each document in the average\n",
        "    of the embeddings of the words in it\n",
        "    \"\"\"\n",
        "\n",
        "    def __init__(self, word2vec):\n",
        "        self.word2vec = word2vec\n",
        "        self.dim = 50\n",
        "        \n",
        "    def fit(self, X, y):\n",
        "        return self\n",
        "\n",
        "    def transform(self, X):\n",
        "        \"\"\"\n",
        "        Find the embedding vector for each word in the dictionary\n",
        "        and take the mean for each document\n",
        "        \"\"\"\n",
        "        # Renaming it just to make it more understandable \n",
        "        documents = X\n",
        "        embedded_docs = []\n",
        "        for document in documents:\n",
        "            # For each document\n",
        "            # Consider the mean of all the embeddings\n",
        "            embedded_document = []\n",
        "            for words in document:\n",
        "\n",
        "                for w in words:\n",
        "                    if w in self.word2vec:\n",
        "                        embedded_word = self.word2vec[w]\n",
        "                    else:\n",
        "                        embedded_word = np.zeros(self.dim)\n",
        "                    embedded_document.append(embedded_word\n",
        "            embedded_docs.append(np.mean(embedded_document, axis=0))\n",
        "\n",
        "        return embedded_docs\n"
      ],
      "execution_count": null,
      "outputs": []
    },
    {
      "cell_type": "code",
      "metadata": {
        "ExecuteTime": {
          "end_time": "2019-03-16T20:38:35.091007Z",
          "start_time": "2019-03-16T20:38:30.082634Z"
        },
        "id": "QhBhx2t7TlZo",
        "outputId": "1398a108-ba50-40b3-dc3e-9a2a8ab1375e"
      },
      "source": [
        "# Creating the embedding\n",
        "e = EmbeddingVectorizer(embeddings_index)\n",
        "X_train_embedded = e.transform(X_train)\n",
        "\n",
        "# Train the classifier\n",
        "clf = RandomForestClassifier(n_estimators=50, n_jobs=-1)\n",
        "clf.fit(X_train_embedded, y_train)"
      ],
      "execution_count": null,
      "outputs": [
        {
          "output_type": "execute_result",
          "data": {
            "text/plain": [
              "RandomForestClassifier(bootstrap=True, class_weight=None, criterion='gini',\n",
              "            max_depth=None, max_features='auto', max_leaf_nodes=None,\n",
              "            min_impurity_decrease=0.0, min_impurity_split=None,\n",
              "            min_samples_leaf=1, min_samples_split=2,\n",
              "            min_weight_fraction_leaf=0.0, n_estimators=50, n_jobs=-1,\n",
              "            oob_score=False, random_state=None, verbose=0,\n",
              "            warm_start=False)"
            ]
          },
          "metadata": {
            "tags": []
          },
          "execution_count": 263
        }
      ]
    },
    {
      "cell_type": "code",
      "metadata": {
        "ExecuteTime": {
          "end_time": "2019-03-16T20:38:37.721048Z",
          "start_time": "2019-03-16T20:38:35.097789Z"
        },
        "id": "H3JmfoZwTlZz"
      },
      "source": [
        "X_test_embedded = e.transform(X_test)\n",
        "predictions = rf.predict(X_test_embedded)"
      ],
      "execution_count": null,
      "outputs": []
    },
    {
      "cell_type": "code",
      "metadata": {
        "ExecuteTime": {
          "end_time": "2019-03-16T20:39:17.559300Z",
          "start_time": "2019-03-16T20:39:17.545871Z"
        },
        "id": "qGl2Gl39TlZ_",
        "outputId": "22e8e51c-2bd5-49e1-c765-3dab5d1afcc3"
      },
      "source": [
        "print('AUC score: ', roc_auc_score(predictions, y_test))\n",
        "confusion_matrix(predictions, y_test)"
      ],
      "execution_count": null,
      "outputs": [
        {
          "output_type": "stream",
          "text": [
            "AUC score:  0.7405204936377006\n"
          ],
          "name": "stdout"
        },
        {
          "output_type": "execute_result",
          "data": {
            "text/plain": [
              "array([[224,  88],\n",
              "       [ 95, 306]])"
            ]
          },
          "metadata": {
            "tags": []
          },
          "execution_count": 268
        }
      ]
    },
    {
      "cell_type": "markdown",
      "metadata": {
        "id": "N1k7XPDusOpk"
      },
      "source": [
        "# Exercise\n",
        "\n",
        "How would you improve the Results?"
      ]
    },
    {
      "cell_type": "code",
      "metadata": {
        "id": "kTFeNwtesY4_"
      },
      "source": [
        ""
      ],
      "execution_count": null,
      "outputs": []
    }
  ]
}